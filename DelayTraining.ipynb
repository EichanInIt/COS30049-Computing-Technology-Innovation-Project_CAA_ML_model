{
 "cells": [
  {
   "cell_type": "code",
   "execution_count": 1,
   "id": "c36693ae-26d7-4445-9fae-6b1a297d106f",
   "metadata": {},
   "outputs": [],
   "source": [
    "import pandas as pd\n",
    "import numpy as np\n",
    "import os\n",
    "import matplotlib.pyplot as plt\n",
    "from sklearn.preprocessing import OneHotEncoder, StandardScaler  \n",
    "import seaborn as sns"
   ]
  },
  {
   "cell_type": "code",
   "execution_count": 2,
   "id": "24d6ffa6-9db1-4b6b-b19c-67d4489d3cea",
   "metadata": {},
   "outputs": [],
   "source": [
    "dropped_data = os.path.join(\"dataset\", \"Cleaned_flight_data.csv\")\n",
    "dropped_data = pd.read_csv(dropped_data)\n",
    "\n",
    "#Checking total NA\n",
    "#data.isna().sum()\n",
    "\n",
    "#data.describe()"
   ]
  },
  {
   "cell_type": "code",
   "execution_count": 3,
   "id": "779b7deb-3cf9-4d73-8b30-0259cf65da9a",
   "metadata": {},
   "outputs": [],
   "source": [
    "# Adjust delay calculations for edge cases\n",
    "def calculate_departure_delay(departure_time, scheduled_departure):\n",
    "    # If DEPARTURE_TIME is greater than SCHEDULED_DEPARTURE but it's still the day before\n",
    "    if departure_time > 1300 and scheduled_departure < 300:\n",
    "        return (departure_time - 1440) - scheduled_departure  # Adjust by subtracting a full day (1440 minutes)\n",
    "    else:\n",
    "        return departure_time - scheduled_departure\n",
    "\n",
    "def calculate_arrival_delay(arrival_time, scheduled_arrival):\n",
    "    # If ARRIVAL_TIME is after midnight but the scheduled arrival was late the day before\n",
    "    if arrival_time < 300 and scheduled_arrival > 1300:\n",
    "        return arrival_time + 1440 - scheduled_arrival  # Adjust by adding a full day (1440 minutes)\n",
    "    else:\n",
    "        return arrival_time - scheduled_arrival"
   ]
  },
  {
   "cell_type": "code",
   "execution_count": 4,
   "id": "7c0ff8b6-8315-4498-b089-93e3176558df",
   "metadata": {},
   "outputs": [],
   "source": [
    "# AIR_TIME = (WHEELS_OFF - WHEELS_ON) + (DESTINATION_TZ - SOURCE_TZ) * 60\n",
    "dropped_data.loc[:, 'AIR_TIME'] = (dropped_data['WHEELS_ON'] - dropped_data['WHEELS_OFF']) + ((dropped_data['ORIGIN_AIRPORT_TZ'] - dropped_data['DESTINATION_AIRPORT_TZ']) * 60)"
   ]
  },
  {
   "cell_type": "code",
   "execution_count": 5,
   "id": "8453cde0-514b-475c-a466-cc4204b8620a",
   "metadata": {},
   "outputs": [],
   "source": [
    "# ELAPSED_TIME = AIR_TIME + TAXI_OUT + TAXI_IN\n",
    "dropped_data.loc[:, 'ELAPSED_TIME'] = dropped_data['AIR_TIME'] + dropped_data['TAXI_OUT'] + dropped_data['TAXI_IN']"
   ]
  },
  {
   "cell_type": "code",
   "execution_count": 6,
   "id": "30707353-2e17-4f71-bbf0-18313b64311b",
   "metadata": {},
   "outputs": [],
   "source": [
    "# Calculate DEPARTURE_DELAY using the custom function to handle edge cases\n",
    "dropped_data.loc[:, 'DEPARTURE_DELAY'] = dropped_data.apply(\n",
    "    lambda row: calculate_departure_delay(row['DEPARTURE_TIME'], row['SCHEDULED_DEPARTURE']),\n",
    "    axis=1\n",
    ")"
   ]
  },
  {
   "cell_type": "code",
   "execution_count": 7,
   "id": "a5932661-297c-4a92-90b2-4215b739b944",
   "metadata": {},
   "outputs": [],
   "source": [
    "# Calculate ARRIVAL_DELAY using the custom function to handle edge cases\n",
    "dropped_data.loc[:, 'ARRIVAL_DELAY'] = dropped_data.apply(\n",
    "    lambda row: calculate_arrival_delay(row['ARRIVAL_TIME'], row['SCHEDULED_ARRIVAL']),\n",
    "    axis=1\n",
    ")"
   ]
  },
  {
   "cell_type": "code",
   "execution_count": 30,
   "id": "81f0a5b6-1655-4686-89d9-bf3e834c9cd1",
   "metadata": {},
   "outputs": [],
   "source": [
    "#dropped_data.loc[:, \"ARRIVAL_DELAY\"]"
   ]
  },
  {
   "cell_type": "code",
   "execution_count": 17,
   "id": "44087350-62f6-499b-9b69-3f23ba64c353",
   "metadata": {},
   "outputs": [],
   "source": []
  },
  {
   "cell_type": "code",
   "execution_count": null,
   "id": "e2756a34-ba62-4350-a81b-0f8cc7988d6c",
   "metadata": {},
   "outputs": [],
   "source": []
  },
  {
   "cell_type": "code",
   "execution_count": 18,
   "id": "4c52aa58-ec8c-4125-ab5a-b3732965adb0",
   "metadata": {},
   "outputs": [],
   "source": []
  },
  {
   "cell_type": "code",
   "execution_count": null,
   "id": "0dd24cb4-557e-4037-b403-256bd461ac06",
   "metadata": {},
   "outputs": [],
   "source": []
  },
  {
   "cell_type": "code",
   "execution_count": null,
   "id": "4e83ae6e-2a8c-41f9-86e3-557bc804d09d",
   "metadata": {},
   "outputs": [],
   "source": []
  },
  {
   "cell_type": "code",
   "execution_count": null,
   "id": "5b6b5801-205b-4547-934d-e0554a2d67fb",
   "metadata": {},
   "outputs": [],
   "source": []
  }
 ],
 "metadata": {
  "kernelspec": {
   "display_name": "Python 3 (ipykernel)",
   "language": "python",
   "name": "python3"
  },
  "language_info": {
   "codemirror_mode": {
    "name": "ipython",
    "version": 3
   },
   "file_extension": ".py",
   "mimetype": "text/x-python",
   "name": "python",
   "nbconvert_exporter": "python",
   "pygments_lexer": "ipython3",
   "version": "3.12.4"
  }
 },
 "nbformat": 4,
 "nbformat_minor": 5
}
